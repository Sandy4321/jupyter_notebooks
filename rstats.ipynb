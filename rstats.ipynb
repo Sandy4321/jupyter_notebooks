{
 "cells": [
  {
   "cell_type": "markdown",
   "metadata": {
    "collapsed": false
   },
   "source": [
    "# Exploring Data with R"
   ]
  },
  {
   "cell_type": "markdown",
   "metadata": {},
   "source": [
    "The first task is to get data into our R environment. Data can be added in several ways including:\n",
    "\n",
    "•\tImporting .csv or JSON from local source or API\n",
    "\n",
    "•\tDirect connections to rational databases or clusters\n",
    "\n",
    "•\tPackaged “RData” files\n",
    "\n",
    "In the examples below, we will be working with data from the Baseball Databank described below."
   ]
  },
  {
   "cell_type": "code",
   "execution_count": 2,
   "metadata": {
    "collapsed": false,
    "scrolled": false
   },
   "outputs": [
    {
     "data": {
      "text/html": [
       "<table>\n",
       "<thead><tr><th scope=col>nameFirst</th><th scope=col>nameLast</th><th scope=col>playerID</th><th scope=col>yearID</th><th scope=col>stint</th><th scope=col>G</th><th scope=col>AB</th><th scope=col>R</th><th scope=col>H</th><th scope=col>X2B</th><th scope=col>⋯</th><th scope=col>BB</th><th scope=col>SO</th><th scope=col>IBB</th><th scope=col>HBP</th><th scope=col>SH</th><th scope=col>SF</th><th scope=col>GIDP</th><th scope=col>teamID</th><th scope=col>name</th><th scope=col>lgID</th></tr></thead>\n",
       "<tbody>\n",
       "\t<tr><td>Frank                 </td><td>Abercrombie           </td><td>abercda01             </td><td>1871                  </td><td>1                     </td><td> 1                    </td><td>  4                   </td><td> 0                    </td><td> 0                    </td><td> 0                    </td><td>⋯                     </td><td>0                     </td><td>0                     </td><td>NA                    </td><td>NA                    </td><td>NA                    </td><td>NA                    </td><td>NA                    </td><td>TRO                   </td><td>Troy Haymakers        </td><td>NA                    </td></tr>\n",
       "\t<tr><td>Bob                   </td><td>Addy                  </td><td>addybo01              </td><td>1871                  </td><td>1                     </td><td>25                    </td><td>118                   </td><td>30                    </td><td>32                    </td><td> 6                    </td><td>⋯                     </td><td>4                     </td><td>0                     </td><td>NA                    </td><td>NA                    </td><td>NA                    </td><td>NA                    </td><td>NA                    </td><td>RC1                   </td><td>Rockford Forest Citys </td><td>NA                    </td></tr>\n",
       "\t<tr><td>Art                   </td><td>Allison               </td><td>allisar01             </td><td>1871                  </td><td>1                     </td><td>29                    </td><td>137                   </td><td>28                    </td><td>40                    </td><td> 4                    </td><td>⋯                     </td><td>2                     </td><td>5                     </td><td>NA                    </td><td>NA                    </td><td>NA                    </td><td>NA                    </td><td>NA                    </td><td>CL1                   </td><td>Cleveland Forest Citys</td><td>NA                    </td></tr>\n",
       "\t<tr><td>Doug                  </td><td>Allison               </td><td>allisdo01             </td><td>1871                  </td><td>1                     </td><td>27                    </td><td>133                   </td><td>28                    </td><td>44                    </td><td>10                    </td><td>⋯                     </td><td>0                     </td><td>2                     </td><td>NA                    </td><td>NA                    </td><td>NA                    </td><td>NA                    </td><td>NA                    </td><td>WS3                   </td><td>Washington Olympics   </td><td>NA                    </td></tr>\n",
       "\t<tr><td>Cap                   </td><td>Anson                 </td><td>ansonca01             </td><td>1871                  </td><td>1                     </td><td>25                    </td><td>120                   </td><td>29                    </td><td>39                    </td><td>11                    </td><td>⋯                     </td><td>2                     </td><td>1                     </td><td>NA                    </td><td>NA                    </td><td>NA                    </td><td>NA                    </td><td>NA                    </td><td>RC1                   </td><td>Rockford Forest Citys </td><td>NA                    </td></tr>\n",
       "\t<tr><td>Robert                </td><td>Armstrong             </td><td>armstbo01             </td><td>1871                  </td><td>1                     </td><td>12                    </td><td> 49                   </td><td> 9                    </td><td>11                    </td><td> 2                    </td><td>⋯                     </td><td>0                     </td><td>1                     </td><td>NA                    </td><td>NA                    </td><td>NA                    </td><td>NA                    </td><td>NA                    </td><td>FW1                   </td><td>Fort Wayne Kekiongas  </td><td>NA                    </td></tr>\n",
       "</tbody>\n",
       "</table>\n"
      ],
      "text/latex": [
       "\\begin{tabular}{r|lllllllllllllllllllllllll}\n",
       " nameFirst & nameLast & playerID & yearID & stint & G & AB & R & H & X2B & ⋯ & BB & SO & IBB & HBP & SH & SF & GIDP & teamID & name & lgID\\\\\n",
       "\\hline\n",
       "\t Frank                  & Abercrombie            & abercda01              & 1871                   & 1                      &  1                     &   4                    &  0                     &  0                     &  0                     & ⋯                      & 0                      & 0                      & NA                     & NA                     & NA                     & NA                     & NA                     & TRO                    & Troy Haymakers         & NA                    \\\\\n",
       "\t Bob                    & Addy                   & addybo01               & 1871                   & 1                      & 25                     & 118                    & 30                     & 32                     &  6                     & ⋯                      & 4                      & 0                      & NA                     & NA                     & NA                     & NA                     & NA                     & RC1                    & Rockford Forest Citys  & NA                    \\\\\n",
       "\t Art                    & Allison                & allisar01              & 1871                   & 1                      & 29                     & 137                    & 28                     & 40                     &  4                     & ⋯                      & 2                      & 5                      & NA                     & NA                     & NA                     & NA                     & NA                     & CL1                    & Cleveland Forest Citys & NA                    \\\\\n",
       "\t Doug                   & Allison                & allisdo01              & 1871                   & 1                      & 27                     & 133                    & 28                     & 44                     & 10                     & ⋯                      & 0                      & 2                      & NA                     & NA                     & NA                     & NA                     & NA                     & WS3                    & Washington Olympics    & NA                    \\\\\n",
       "\t Cap                    & Anson                  & ansonca01              & 1871                   & 1                      & 25                     & 120                    & 29                     & 39                     & 11                     & ⋯                      & 2                      & 1                      & NA                     & NA                     & NA                     & NA                     & NA                     & RC1                    & Rockford Forest Citys  & NA                    \\\\\n",
       "\t Robert                 & Armstrong              & armstbo01              & 1871                   & 1                      & 12                     &  49                    &  9                     & 11                     &  2                     & ⋯                      & 0                      & 1                      & NA                     & NA                     & NA                     & NA                     & NA                     & FW1                    & Fort Wayne Kekiongas   & NA                    \\\\\n",
       "\\end{tabular}\n"
      ],
      "text/plain": [
       "  nameFirst nameLast    playerID  yearID stint G  AB  R  H  X2B ⋯ BB SO IBB HBP\n",
       "1 Frank     Abercrombie abercda01 1871   1      1   4  0  0  0  ⋯ 0  0  NA  NA \n",
       "2 Bob       Addy        addybo01  1871   1     25 118 30 32  6  ⋯ 4  0  NA  NA \n",
       "3 Art       Allison     allisar01 1871   1     29 137 28 40  4  ⋯ 2  5  NA  NA \n",
       "4 Doug      Allison     allisdo01 1871   1     27 133 28 44 10  ⋯ 0  2  NA  NA \n",
       "5 Cap       Anson       ansonca01 1871   1     25 120 29 39 11  ⋯ 2  1  NA  NA \n",
       "6 Robert    Armstrong   armstbo01 1871   1     12  49  9 11  2  ⋯ 0  1  NA  NA \n",
       "  SH SF GIDP teamID name                   lgID\n",
       "1 NA NA NA   TRO    Troy Haymakers         NA  \n",
       "2 NA NA NA   RC1    Rockford Forest Citys  NA  \n",
       "3 NA NA NA   CL1    Cleveland Forest Citys NA  \n",
       "4 NA NA NA   WS3    Washington Olympics    NA  \n",
       "5 NA NA NA   RC1    Rockford Forest Citys  NA  \n",
       "6 NA NA NA   FW1    Fort Wayne Kekiongas   NA  "
      ]
     },
     "metadata": {},
     "output_type": "display_data"
    }
   ],
   "source": [
    "# Load the local data set.\n",
    "load(\"lahman.RData\")\n",
    "\n",
    "# Take a look at the first few rows.\n",
    "head(batting)"
   ]
  },
  {
   "cell_type": "markdown",
   "metadata": {},
   "source": [
    "Three data frames are now loaded into your R environment. In RStudio, these would appear in the upper right-hand corner. The data frames loaded are:\n",
    "\n",
    "•\tbatting: Annual batting statistics for every MLB player form 1871 to 2016.\n",
    "\n",
    "•\tpitching: Annual pitching statistics for every MLB player form 1871 to 2016.\n",
    "\n",
    "•\tmaster: A key table to help us with joins.\n",
    "\n",
    "We can view the first several rows of these data with the code below."
   ]
  },
  {
   "cell_type": "markdown",
   "metadata": {},
   "source": [
    "# Parsing and Sub-setting Data"
   ]
  },
  {
   "cell_type": "markdown",
   "metadata": {},
   "source": [
    "One of the most popular R packages for working with data frames is the dplyr package. We can use dplyr in the following code to subset the data frame.\n",
    "\n",
    "Suppose we wanted to only see full-time batters. We could subset the data frame to batters with more than 80 games played in a season."
   ]
  },
  {
   "cell_type": "code",
   "execution_count": 3,
   "metadata": {
    "collapsed": false,
    "scrolled": true
   },
   "outputs": [
    {
     "name": "stderr",
     "output_type": "stream",
     "text": [
      "\n",
      "Attaching package: ‘dplyr’\n",
      "\n",
      "The following objects are masked from ‘package:stats’:\n",
      "\n",
      "    filter, lag\n",
      "\n",
      "The following objects are masked from ‘package:base’:\n",
      "\n",
      "    intersect, setdiff, setequal, union\n",
      "\n"
     ]
    },
    {
     "data": {
      "text/html": [
       "<table>\n",
       "<thead><tr><th></th><th scope=col>nameFirst</th><th scope=col>nameLast</th><th scope=col>playerID</th><th scope=col>yearID</th><th scope=col>stint</th><th scope=col>G</th><th scope=col>AB</th><th scope=col>R</th><th scope=col>H</th><th scope=col>X2B</th><th scope=col>⋯</th><th scope=col>BB</th><th scope=col>SO</th><th scope=col>IBB</th><th scope=col>HBP</th><th scope=col>SH</th><th scope=col>SF</th><th scope=col>GIDP</th><th scope=col>teamID</th><th scope=col>name</th><th scope=col>lgID</th></tr></thead>\n",
       "<tbody>\n",
       "\t<tr><th scope=row>555</th><td>Tom                 </td><td>Carey               </td><td>careyto01           </td><td>1875                </td><td>1                   </td><td>86                  </td><td>382                 </td><td>63                  </td><td>101                 </td><td> 6                  </td><td>⋯                   </td><td>1                   </td><td> 3                  </td><td>NA                  </td><td>NA                  </td><td>NA                  </td><td>NA                  </td><td>NA                  </td><td>HR1                 </td><td>Hartford Dark Blues </td><td>NA                  </td></tr>\n",
       "\t<tr><th scope=row>582</th><td>Bob                 </td><td>Ferguson            </td><td>fergubo01           </td><td>1875                </td><td>1                   </td><td>85                  </td><td>366                 </td><td>65                  </td><td> 88                 </td><td>10                  </td><td>⋯                   </td><td>3                   </td><td> 5                  </td><td>NA                  </td><td>NA                  </td><td>NA                  </td><td>NA                  </td><td>NA                  </td><td>HR1                 </td><td>Hartford Dark Blues </td><td>NA                  </td></tr>\n",
       "\t<tr><th scope=row>655</th><td>Cal                 </td><td>McVey               </td><td>mcveyca01           </td><td>1875                </td><td>1                   </td><td>82                  </td><td>389                 </td><td>89                  </td><td>138                 </td><td>36                  </td><td>⋯                   </td><td>1                   </td><td> 5                  </td><td>NA                  </td><td>NA                  </td><td>NA                  </td><td>NA                  </td><td>NA                  </td><td>BS1                 </td><td>Boston Red Stockings</td><td>NA                  </td></tr>\n",
       "\t<tr><th scope=row>688</th><td>Jack                </td><td>Remsen              </td><td>remseja01           </td><td>1875                </td><td>1                   </td><td>86                  </td><td>358                 </td><td>70                  </td><td> 96                 </td><td>10                  </td><td>⋯                   </td><td>5                   </td><td> 4                  </td><td>NA                  </td><td>NA                  </td><td>NA                  </td><td>NA                  </td><td>NA                  </td><td>HR1                 </td><td>Hartford Dark Blues </td><td>NA                  </td></tr>\n",
       "\t<tr><th scope=row>735</th><td>Tom                 </td><td>York                </td><td>yorkto01            </td><td>1875                </td><td>1                   </td><td>86                  </td><td>375                 </td><td>68                  </td><td>111                 </td><td>14                  </td><td>⋯                   </td><td>3                   </td><td> 6                  </td><td>NA                  </td><td>NA                  </td><td>NA                  </td><td>NA                  </td><td>NA                  </td><td>HR1                 </td><td>Hartford Dark Blues </td><td>NA                  </td></tr>\n",
       "\t<tr><th scope=row>1050</th><td>Jack                </td><td>Burdock             </td><td>burdoja01           </td><td>1879                </td><td>1                   </td><td>84                  </td><td>359                 </td><td>64                  </td><td> 86                 </td><td>10                  </td><td>⋯                   </td><td>9                   </td><td>28                  </td><td>NA                  </td><td>NA                  </td><td>NA                  </td><td>NA                  </td><td>NA                  </td><td>BSN                 </td><td>Boston Red Caps     </td><td>NL                  </td></tr>\n",
       "</tbody>\n",
       "</table>\n"
      ],
      "text/latex": [
       "\\begin{tabular}{r|lllllllllllllllllllllllll}\n",
       "  & nameFirst & nameLast & playerID & yearID & stint & G & AB & R & H & X2B & ⋯ & BB & SO & IBB & HBP & SH & SF & GIDP & teamID & name & lgID\\\\\n",
       "\\hline\n",
       "\t555 & Tom                  & Carey                & careyto01            & 1875                 & 1                    & 86                   & 382                  & 63                   & 101                  &  6                   & ⋯                    & 1                    &  3                   & NA                   & NA                   & NA                   & NA                   & NA                   & HR1                  & Hartford Dark Blues  & NA                  \\\\\n",
       "\t582 & Bob                  & Ferguson             & fergubo01            & 1875                 & 1                    & 85                   & 366                  & 65                   &  88                  & 10                   & ⋯                    & 3                    &  5                   & NA                   & NA                   & NA                   & NA                   & NA                   & HR1                  & Hartford Dark Blues  & NA                  \\\\\n",
       "\t655 & Cal                  & McVey                & mcveyca01            & 1875                 & 1                    & 82                   & 389                  & 89                   & 138                  & 36                   & ⋯                    & 1                    &  5                   & NA                   & NA                   & NA                   & NA                   & NA                   & BS1                  & Boston Red Stockings & NA                  \\\\\n",
       "\t688 & Jack                 & Remsen               & remseja01            & 1875                 & 1                    & 86                   & 358                  & 70                   &  96                  & 10                   & ⋯                    & 5                    &  4                   & NA                   & NA                   & NA                   & NA                   & NA                   & HR1                  & Hartford Dark Blues  & NA                  \\\\\n",
       "\t735 & Tom                  & York                 & yorkto01             & 1875                 & 1                    & 86                   & 375                  & 68                   & 111                  & 14                   & ⋯                    & 3                    &  6                   & NA                   & NA                   & NA                   & NA                   & NA                   & HR1                  & Hartford Dark Blues  & NA                  \\\\\n",
       "\t1050 & Jack                 & Burdock              & burdoja01            & 1879                 & 1                    & 84                   & 359                  & 64                   &  86                  & 10                   & ⋯                    & 9                    & 28                   & NA                   & NA                   & NA                   & NA                   & NA                   & BSN                  & Boston Red Caps      & NL                  \\\\\n",
       "\\end{tabular}\n"
      ],
      "text/plain": [
       "     nameFirst nameLast playerID  yearID stint G  AB  R  H   X2B ⋯ BB SO IBB\n",
       "555  Tom       Carey    careyto01 1875   1     86 382 63 101  6  ⋯ 1   3 NA \n",
       "582  Bob       Ferguson fergubo01 1875   1     85 366 65  88 10  ⋯ 3   5 NA \n",
       "655  Cal       McVey    mcveyca01 1875   1     82 389 89 138 36  ⋯ 1   5 NA \n",
       "688  Jack      Remsen   remseja01 1875   1     86 358 70  96 10  ⋯ 5   4 NA \n",
       "735  Tom       York     yorkto01  1875   1     86 375 68 111 14  ⋯ 3   6 NA \n",
       "1050 Jack      Burdock  burdoja01 1879   1     84 359 64  86 10  ⋯ 9  28 NA \n",
       "     HBP SH SF GIDP teamID name                 lgID\n",
       "555  NA  NA NA NA   HR1    Hartford Dark Blues  NA  \n",
       "582  NA  NA NA NA   HR1    Hartford Dark Blues  NA  \n",
       "655  NA  NA NA NA   BS1    Boston Red Stockings NA  \n",
       "688  NA  NA NA NA   HR1    Hartford Dark Blues  NA  \n",
       "735  NA  NA NA NA   HR1    Hartford Dark Blues  NA  \n",
       "1050 NA  NA NA NA   BSN    Boston Red Caps      NL  "
      ]
     },
     "metadata": {},
     "output_type": "display_data"
    }
   ],
   "source": [
    "# Packages are normally called at the beginning of your code.\n",
    "library(dplyr)\n",
    "\n",
    "# Subset for rows where games (G) are more than 80.\n",
    "batting_fulltime <- subset(batting, G > 80)\n",
    "\n",
    "# View the results to check. Notice these rows all have 80+ in the \"G\" column.\n",
    "head(batting_fulltime)"
   ]
  },
  {
   "cell_type": "markdown",
   "metadata": {},
   "source": [
    "# Piping Functions"
   ]
  },
  {
   "cell_type": "markdown",
   "metadata": {},
   "source": [
    "R has no native pipe operator. However, in many packages the `%>%` symbol serves as a pipe operator. \n",
    "\n",
    "For example, the below sections of code will both select batters with more than 80 games and arrange them by the number of homeruns (decending) in a particular season."
   ]
  },
  {
   "cell_type": "code",
   "execution_count": 4,
   "metadata": {
    "collapsed": false,
    "scrolled": false
   },
   "outputs": [
    {
     "data": {
      "text/html": [
       "<table>\n",
       "<thead><tr><th scope=col>nameFirst</th><th scope=col>nameLast</th><th scope=col>playerID</th><th scope=col>yearID</th><th scope=col>stint</th><th scope=col>G</th><th scope=col>AB</th><th scope=col>R</th><th scope=col>H</th><th scope=col>X2B</th><th scope=col>⋯</th><th scope=col>BB</th><th scope=col>SO</th><th scope=col>IBB</th><th scope=col>HBP</th><th scope=col>SH</th><th scope=col>SF</th><th scope=col>GIDP</th><th scope=col>teamID</th><th scope=col>name</th><th scope=col>lgID</th></tr></thead>\n",
       "<tbody>\n",
       "\t<tr><td>Barry               </td><td>Bonds               </td><td>bondsba01           </td><td>2001                </td><td>1                   </td><td>153                 </td><td>476                 </td><td>129                 </td><td>156                 </td><td>32                  </td><td>⋯                   </td><td>177                 </td><td> 93                 </td><td>35                  </td><td>9                   </td><td>0                   </td><td> 2                  </td><td> 5                  </td><td>SFN                 </td><td>San Francisco Giants</td><td>NL                  </td></tr>\n",
       "\t<tr><td>Mark                </td><td>McGwire             </td><td>mcgwima01           </td><td>1998                </td><td>1                   </td><td>155                 </td><td>509                 </td><td>130                 </td><td>152                 </td><td>21                  </td><td>⋯                   </td><td>162                 </td><td>155                 </td><td>28                  </td><td>6                   </td><td>0                   </td><td> 4                  </td><td> 8                  </td><td>SLN                 </td><td>St. Louis Cardinals </td><td>NL                  </td></tr>\n",
       "\t<tr><td>Sammy               </td><td>Sosa                </td><td>sosasa01            </td><td>1998                </td><td>1                   </td><td>159                 </td><td>643                 </td><td>134                 </td><td>198                 </td><td>20                  </td><td>⋯                   </td><td> 73                 </td><td>171                 </td><td>14                  </td><td>1                   </td><td>0                   </td><td> 5                  </td><td>20                  </td><td>CHN                 </td><td>Chicago Cubs        </td><td>NL                  </td></tr>\n",
       "\t<tr><td>Mark                </td><td>McGwire             </td><td>mcgwima01           </td><td>1999                </td><td>1                   </td><td>153                 </td><td>521                 </td><td>118                 </td><td>145                 </td><td>21                  </td><td>⋯                   </td><td>133                 </td><td>141                 </td><td>21                  </td><td>2                   </td><td>0                   </td><td> 5                  </td><td>12                  </td><td>SLN                 </td><td>St. Louis Cardinals </td><td>NL                  </td></tr>\n",
       "\t<tr><td>Sammy               </td><td>Sosa                </td><td>sosasa01            </td><td>2001                </td><td>1                   </td><td>160                 </td><td>577                 </td><td>146                 </td><td>189                 </td><td>34                  </td><td>⋯                   </td><td>116                 </td><td>153                 </td><td>37                  </td><td>6                   </td><td>0                   </td><td>12                  </td><td> 6                  </td><td>CHN                 </td><td>Chicago Cubs        </td><td>NL                  </td></tr>\n",
       "\t<tr><td>Sammy               </td><td>Sosa                </td><td>sosasa01            </td><td>1999                </td><td>1                   </td><td>162                 </td><td>625                 </td><td>114                 </td><td>180                 </td><td>24                  </td><td>⋯                   </td><td> 78                 </td><td>171                 </td><td> 8                  </td><td>3                   </td><td>0                   </td><td> 6                  </td><td>17                  </td><td>CHN                 </td><td>Chicago Cubs        </td><td>NL                  </td></tr>\n",
       "</tbody>\n",
       "</table>\n"
      ],
      "text/latex": [
       "\\begin{tabular}{r|lllllllllllllllllllllllll}\n",
       " nameFirst & nameLast & playerID & yearID & stint & G & AB & R & H & X2B & ⋯ & BB & SO & IBB & HBP & SH & SF & GIDP & teamID & name & lgID\\\\\n",
       "\\hline\n",
       "\t Barry                & Bonds                & bondsba01            & 2001                 & 1                    & 153                  & 476                  & 129                  & 156                  & 32                   & ⋯                    & 177                  &  93                  & 35                   & 9                    & 0                    &  2                   &  5                   & SFN                  & San Francisco Giants & NL                  \\\\\n",
       "\t Mark                 & McGwire              & mcgwima01            & 1998                 & 1                    & 155                  & 509                  & 130                  & 152                  & 21                   & ⋯                    & 162                  & 155                  & 28                   & 6                    & 0                    &  4                   &  8                   & SLN                  & St. Louis Cardinals  & NL                  \\\\\n",
       "\t Sammy                & Sosa                 & sosasa01             & 1998                 & 1                    & 159                  & 643                  & 134                  & 198                  & 20                   & ⋯                    &  73                  & 171                  & 14                   & 1                    & 0                    &  5                   & 20                   & CHN                  & Chicago Cubs         & NL                  \\\\\n",
       "\t Mark                 & McGwire              & mcgwima01            & 1999                 & 1                    & 153                  & 521                  & 118                  & 145                  & 21                   & ⋯                    & 133                  & 141                  & 21                   & 2                    & 0                    &  5                   & 12                   & SLN                  & St. Louis Cardinals  & NL                  \\\\\n",
       "\t Sammy                & Sosa                 & sosasa01             & 2001                 & 1                    & 160                  & 577                  & 146                  & 189                  & 34                   & ⋯                    & 116                  & 153                  & 37                   & 6                    & 0                    & 12                   &  6                   & CHN                  & Chicago Cubs         & NL                  \\\\\n",
       "\t Sammy                & Sosa                 & sosasa01             & 1999                 & 1                    & 162                  & 625                  & 114                  & 180                  & 24                   & ⋯                    &  78                  & 171                  &  8                   & 3                    & 0                    &  6                   & 17                   & CHN                  & Chicago Cubs         & NL                  \\\\\n",
       "\\end{tabular}\n"
      ],
      "text/plain": [
       "  nameFirst nameLast playerID  yearID stint G   AB  R   H   X2B ⋯ BB  SO  IBB\n",
       "1 Barry     Bonds    bondsba01 2001   1     153 476 129 156 32  ⋯ 177  93 35 \n",
       "2 Mark      McGwire  mcgwima01 1998   1     155 509 130 152 21  ⋯ 162 155 28 \n",
       "3 Sammy     Sosa     sosasa01  1998   1     159 643 134 198 20  ⋯  73 171 14 \n",
       "4 Mark      McGwire  mcgwima01 1999   1     153 521 118 145 21  ⋯ 133 141 21 \n",
       "5 Sammy     Sosa     sosasa01  2001   1     160 577 146 189 34  ⋯ 116 153 37 \n",
       "6 Sammy     Sosa     sosasa01  1999   1     162 625 114 180 24  ⋯  78 171  8 \n",
       "  HBP SH SF GIDP teamID name                 lgID\n",
       "1 9   0   2  5   SFN    San Francisco Giants NL  \n",
       "2 6   0   4  8   SLN    St. Louis Cardinals  NL  \n",
       "3 1   0   5 20   CHN    Chicago Cubs         NL  \n",
       "4 2   0   5 12   SLN    St. Louis Cardinals  NL  \n",
       "5 6   0  12  6   CHN    Chicago Cubs         NL  \n",
       "6 3   0   6 17   CHN    Chicago Cubs         NL  "
      ]
     },
     "metadata": {},
     "output_type": "display_data"
    }
   ],
   "source": [
    "# Code without pipe\n",
    "batting_fulltime <- subset(batting, G > 80)\n",
    "batting_fulltime <- arrange(batting, desc(HR))\n",
    "\n",
    "# Code with pipes looks a bit cleaner. Note, there is no need to call the data frame in the arrange function.\n",
    "batting_fulltime <- subset(batting, G > 80) %>%\n",
    "    arrange(desc(HR))\n",
    "\n",
    "# Check the results. We should see Barry Bonds on top of the list with 73 homeruns in 2001.\n",
    "head(batting_fulltime)"
   ]
  },
  {
   "cell_type": "markdown",
   "metadata": {},
   "source": [
    "### PRACTICE"
   ]
  },
  {
   "cell_type": "markdown",
   "metadata": {},
   "source": [
    "Complete the code chunk below to select only years after 1900 and arrange the data by yearID descending. Insert R Cell code text section."
   ]
  },
  {
   "cell_type": "code",
   "execution_count": null,
   "metadata": {
    "collapsed": true
   },
   "outputs": [],
   "source": [
    "# Hint: Don't forget to include the desc() function inside of the arrange function.\n",
    "\n",
    "batting_years <- subset(batting_fulltime, YOUR_CODE_HERE) %>%\n",
    "      arrange(YOUR CODE HERE)"
   ]
  },
  {
   "cell_type": "markdown",
   "metadata": {},
   "source": [
    "# Mathematical Equations"
   ]
  },
  {
   "cell_type": "markdown",
   "metadata": {},
   "source": [
    "Math is fairly straightforward in R. The “batting average” statistic does not appear in our `batting_fulltime` data frame. To add a column, we can use the `$` symbol."
   ]
  },
  {
   "cell_type": "code",
   "execution_count": 5,
   "metadata": {
    "collapsed": false
   },
   "outputs": [
    {
     "data": {
      "text/html": [
       "<table>\n",
       "<thead><tr><th></th><th scope=col>nameFirst</th><th scope=col>nameLast</th><th scope=col>yearID</th><th scope=col>G</th><th scope=col>AB</th><th scope=col>H</th><th scope=col>SO</th><th scope=col>BA</th></tr></thead>\n",
       "<tbody>\n",
       "\t<tr><th scope=row>555</th><td>Tom      </td><td>Carey    </td><td>1875     </td><td>86       </td><td>382      </td><td>101      </td><td> 3       </td><td>0.2643979</td></tr>\n",
       "\t<tr><th scope=row>582</th><td>Bob      </td><td>Ferguson </td><td>1875     </td><td>85       </td><td>366      </td><td> 88      </td><td> 5       </td><td>0.2404372</td></tr>\n",
       "\t<tr><th scope=row>655</th><td>Cal      </td><td>McVey    </td><td>1875     </td><td>82       </td><td>389      </td><td>138      </td><td> 5       </td><td>0.3547558</td></tr>\n",
       "\t<tr><th scope=row>688</th><td>Jack     </td><td>Remsen   </td><td>1875     </td><td>86       </td><td>358      </td><td> 96      </td><td> 4       </td><td>0.2681564</td></tr>\n",
       "\t<tr><th scope=row>735</th><td>Tom      </td><td>York     </td><td>1875     </td><td>86       </td><td>375      </td><td>111      </td><td> 6       </td><td>0.2960000</td></tr>\n",
       "\t<tr><th scope=row>1050</th><td>Jack     </td><td>Burdock  </td><td>1879     </td><td>84       </td><td>359      </td><td> 86      </td><td>28       </td><td>0.2395543</td></tr>\n",
       "</tbody>\n",
       "</table>\n"
      ],
      "text/latex": [
       "\\begin{tabular}{r|llllllll}\n",
       "  & nameFirst & nameLast & yearID & G & AB & H & SO & BA\\\\\n",
       "\\hline\n",
       "\t555 & Tom       & Carey     & 1875      & 86        & 382       & 101       &  3        & 0.2643979\\\\\n",
       "\t582 & Bob       & Ferguson  & 1875      & 85        & 366       &  88       &  5        & 0.2404372\\\\\n",
       "\t655 & Cal       & McVey     & 1875      & 82        & 389       & 138       &  5        & 0.3547558\\\\\n",
       "\t688 & Jack      & Remsen    & 1875      & 86        & 358       &  96       &  4        & 0.2681564\\\\\n",
       "\t735 & Tom       & York      & 1875      & 86        & 375       & 111       &  6        & 0.2960000\\\\\n",
       "\t1050 & Jack      & Burdock   & 1879      & 84        & 359       &  86       & 28        & 0.2395543\\\\\n",
       "\\end{tabular}\n"
      ],
      "text/plain": [
       "     nameFirst nameLast yearID G  AB  H   SO BA       \n",
       "555  Tom       Carey    1875   86 382 101  3 0.2643979\n",
       "582  Bob       Ferguson 1875   85 366  88  5 0.2404372\n",
       "655  Cal       McVey    1875   82 389 138  5 0.3547558\n",
       "688  Jack      Remsen   1875   86 358  96  4 0.2681564\n",
       "735  Tom       York     1875   86 375 111  6 0.2960000\n",
       "1050 Jack      Burdock  1879   84 359  86 28 0.2395543"
      ]
     },
     "metadata": {},
     "output_type": "display_data"
    }
   ],
   "source": [
    "# The formula for batting average is (hits/at-bats).\n",
    "\n",
    "# Subset the data to players with more than 80 games AND select only the stats we need.\n",
    "# Notice the \"c(...)\" in the select statement. Think of this as a sting concatenate. \n",
    "\n",
    "battingAVG <- subset(batting, G > 80, select = c(\"nameFirst\", \"nameLast\", \"yearID\", \"G\",\n",
    "                                                 \"AB\", \"H\", \"SO\"))\n",
    "\n",
    "# Use the $ symbol to add a column to the data frame called \"BA.\"\n",
    "battingAVG$BA <- battingAVG$H / battingAVG$AB\n",
    "\n",
    "# Check the data to make sure our column was added and calculated correctly.\n",
    "head(battingAVG)"
   ]
  },
  {
   "cell_type": "markdown",
   "metadata": {},
   "source": [
    "### PRACTICE"
   ]
  },
  {
   "cell_type": "code",
   "execution_count": null,
   "metadata": {
    "collapsed": true
   },
   "outputs": [],
   "source": [
    "Add a column to the battingAVG data frame that calculates strikeout percentate. HINT: the formula for strikeout percentate is SO / AB"
   ]
  },
  {
   "cell_type": "code",
   "execution_count": null,
   "metadata": {
    "collapsed": true
   },
   "outputs": [],
   "source": [
    "# Use the $ symbol to add a column to the data frame called \"SOpct.\"\n",
    "\n",
    "battingAVG$SOpct <- \n",
    "\n",
    "# Check to make sure your column has been added.\n",
    "\n",
    "head(battingAVG)"
   ]
  },
  {
   "cell_type": "markdown",
   "metadata": {},
   "source": [
    "# Aggregating Data"
   ]
  },
  {
   "cell_type": "markdown",
   "metadata": {},
   "source": [
    "These data represent yearly statistics, but suppose we wanted to see career statistics. For example, if we wanted to look at a list of the career homerun leaders in baseball. "
   ]
  },
  {
   "cell_type": "code",
   "execution_count": 6,
   "metadata": {
    "collapsed": false
   },
   "outputs": [
    {
     "data": {
      "text/html": [
       "<table>\n",
       "<thead><tr><th scope=col>playerID</th><th scope=col>nameFirst</th><th scope=col>nameLast</th><th scope=col>HR</th></tr></thead>\n",
       "<tbody>\n",
       "\t<tr><td>bondsba01</td><td>Barry    </td><td>Bonds    </td><td>762      </td></tr>\n",
       "\t<tr><td>aaronha01</td><td>Hank     </td><td>Aaron    </td><td>755      </td></tr>\n",
       "\t<tr><td>ruthba01 </td><td>Babe     </td><td>Ruth     </td><td>714      </td></tr>\n",
       "\t<tr><td>rodrial01</td><td>Alex     </td><td>Rodriguez</td><td>687      </td></tr>\n",
       "\t<tr><td>mayswi01 </td><td>Willie   </td><td>Mays     </td><td>660      </td></tr>\n",
       "\t<tr><td>griffke02</td><td>Ken      </td><td>Griffey  </td><td>630      </td></tr>\n",
       "</tbody>\n",
       "</table>\n"
      ],
      "text/latex": [
       "\\begin{tabular}{r|llll}\n",
       " playerID & nameFirst & nameLast & HR\\\\\n",
       "\\hline\n",
       "\t bondsba01 & Barry     & Bonds     & 762      \\\\\n",
       "\t aaronha01 & Hank      & Aaron     & 755      \\\\\n",
       "\t ruthba01  & Babe      & Ruth      & 714      \\\\\n",
       "\t rodrial01 & Alex      & Rodriguez & 687      \\\\\n",
       "\t mayswi01  & Willie    & Mays      & 660      \\\\\n",
       "\t griffke02 & Ken       & Griffey   & 630      \\\\\n",
       "\\end{tabular}\n"
      ],
      "text/plain": [
       "  playerID  nameFirst nameLast  HR \n",
       "1 bondsba01 Barry     Bonds     762\n",
       "2 aaronha01 Hank      Aaron     755\n",
       "3 ruthba01  Babe      Ruth      714\n",
       "4 rodrial01 Alex      Rodriguez 687\n",
       "5 mayswi01  Willie    Mays      660\n",
       "6 griffke02 Ken       Griffey   630"
      ]
     },
     "metadata": {},
     "output_type": "display_data"
    }
   ],
   "source": [
    "library(dplyr)\n",
    "# Subset data to years after 1900 and players with at least one homerun in a season.\n",
    "# Select only the fields we need: name, playerID and HR.\n",
    "\n",
    "careerHR <- subset(batting, yearID >= 1900 & HR >= 1,\n",
    "                   select = c(\"playerID\", \"nameFirst\", \"nameLast\", \"HR\")) %>%\n",
    "    # Group any fields not being used in the aggregation.\n",
    "    group_by(playerID, nameFirst, nameLast) %>%\n",
    "    # Use the summarize function from dplyr.\n",
    "    summarize(HR = sum(HR)) %>%\n",
    "    # Arrange descending.\n",
    "    arrange(desc(HR))\n",
    "\n",
    "# If we did this correctly, Barry Bonds should be at the top of the list.\n",
    "head(careerHR)"
   ]
  },
  {
   "cell_type": "markdown",
   "metadata": {},
   "source": [
    "# Plots"
   ]
  },
  {
   "cell_type": "code",
   "execution_count": 7,
   "metadata": {
    "collapsed": true
   },
   "outputs": [],
   "source": [
    "# Aggregate total homeruns hit by all players over various years.\n",
    "hitEnviron <- subset(batting, yearID >= 1900 & HR >= 1, \n",
    "                     select = c(\"yearID\", \"HR\")) %>%\n",
    "    group_by(yearID) %>%\n",
    "    summarise(HR = sum(HR)) %>%\n",
    "    arrange(yearID)"
   ]
  },
  {
   "cell_type": "code",
   "execution_count": 9,
   "metadata": {
    "collapsed": false
   },
   "outputs": [
    {
     "data": {},
     "metadata": {},
     "output_type": "display_data"
    },
    {
     "data": {
      "image/png": "[encoded data removed]",
      "text/plain": [
       "plot without title"
      ]
     },
     "metadata": {},
     "output_type": "display_data"
    }
   ],
   "source": [
    "library(ggplot2)\n",
    "\n",
    "ggplot(hitEnviron, aes(x = yearID, y= HR)) +\n",
    "    geom_line()"
   ]
  },
  {
   "cell_type": "code",
   "execution_count": null,
   "metadata": {
    "collapsed": true
   },
   "outputs": [],
   "source": []
  }
 ],
 "metadata": {
  "kernelspec": {
   "display_name": "R",
   "language": "r",
   "name": "ir"
  },
  "language_info": {
   "codemirror_mode": "r",
   "file_extension": ".r",
   "mimetype": "text/x-r-source",
   "name": "R",
   "pygments_lexer": "r",
   "version": "3.2.4"
  }
 },
 "nbformat": 4,
 "nbformat_minor": 0
}
